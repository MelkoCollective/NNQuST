{
 "cells": [
  {
   "cell_type": "code",
   "execution_count": 1,
   "metadata": {},
   "outputs": [],
   "source": [
    "import numpy as np\n",
    "import pickle\n",
    "import torch\n",
    "\n",
    "from qucumber.utils import data\n",
    "from qucumber.utils import cplx"
   ]
  },
  {
   "cell_type": "code",
   "execution_count": 2,
   "metadata": {},
   "outputs": [],
   "source": [
    "data_path = \"N2_W_state_p0.50_100_samples_data.txt\"\n",
    "train_bases_path = \"N2_W_state_p0.50_100_samples_bases.txt\"\n",
    "bases_path = \"N2_W_bases.txt\"\n",
    "\n",
    "matrix_real_path = \"N2_W_state_p0.50_target_real.txt\"\n",
    "matrix_imag_path = \"N2_W_state_p0.50_target_imag.txt\"\n",
    "\n",
    "train_data, train_bases, bases = data.load_data(data_path, tr_bases_path=train_bases_path, bases_path=bases_path)\n",
    "\n",
    "train_data = train_data.numpy()\n",
    "\n",
    "for index in range(len(bases)):\n",
    "    bases[index] = [letter for letter in bases[index]]\n",
    "    \n",
    "bases = np.array(bases)\n",
    "\n",
    "matrix_real = data.load_data(matrix_real_path)[0]\n",
    "matrix_imag = data.load_data(matrix_imag_path)[0]\n",
    "\n",
    "true_matrix = cplx.make_complex(matrix_real, matrix_imag).numpy()"
   ]
  },
  {
   "cell_type": "code",
   "execution_count": 3,
   "metadata": {},
   "outputs": [],
   "source": [
    "dm_dict = {}\n",
    "dm_dict['bases'] = bases\n",
    "dm_dict['train_bases'] = train_bases\n",
    "dm_dict['train_samples'] = train_data\n",
    "dm_dict['density_matrix'] = true_matrix"
   ]
  },
  {
   "cell_type": "code",
   "execution_count": 4,
   "metadata": {},
   "outputs": [
    {
     "name": "stdout",
     "output_type": "stream",
     "text": [
      "dict_keys(['tfim1d', '2qubits'])\n",
      "dict_keys(['tfim1d', '2qubits', 'density_matrix'])\n",
      "dict_keys(['tfim1d', '2qubits', 'density_matrix'])\n"
     ]
    }
   ],
   "source": [
    "with open(\"test_grad_data.pkl\", \"rb\") as f:\n",
    "    pickle_data = pickle.load(f)\n",
    "    \n",
    "print(pickle_data.keys())\n",
    "    \n",
    "pickle_data['density_matrix'] = dm_dict\n",
    "\n",
    "print(pickle_data.keys())\n",
    "\n",
    "with open(\"test_grad_data.pkl\", \"wb\") as f:\n",
    "    pickle.dump(pickle_data, f)\n",
    "    \n",
    "with open(\"test_grad_data.pkl\", \"rb\") as f:\n",
    "    updated_pickle_data = pickle.load(f)\n",
    "\n",
    "print(updated_pickle_data.keys())"
   ]
  },
  {
   "cell_type": "code",
   "execution_count": 5,
   "metadata": {},
   "outputs": [
    {
     "data": {
      "text/plain": [
       "array([['Z', 'Z'],\n",
       "       ['X', 'Z'],\n",
       "       ['Z', 'X'],\n",
       "       ['Y', 'Z'],\n",
       "       ['Z', 'Y']], dtype='<U1')"
      ]
     },
     "execution_count": 5,
     "metadata": {},
     "output_type": "execute_result"
    }
   ],
   "source": [
    "updated_pickle_data['2qubits']['bases']"
   ]
  },
  {
   "cell_type": "code",
   "execution_count": null,
   "metadata": {},
   "outputs": [],
   "source": []
  }
 ],
 "metadata": {
  "kernelspec": {
   "display_name": "Python 3",
   "language": "python",
   "name": "python3"
  },
  "language_info": {
   "codemirror_mode": {
    "name": "ipython",
    "version": 3
   },
   "file_extension": ".py",
   "mimetype": "text/x-python",
   "name": "python",
   "nbconvert_exporter": "python",
   "pygments_lexer": "ipython3",
   "version": "3.6.8"
  }
 },
 "nbformat": 4,
 "nbformat_minor": 2
}
