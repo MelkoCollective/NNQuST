{
 "cells": [
  {
   "cell_type": "markdown",
   "metadata": {},
   "source": [
    "# Sampling and calculating observables\n",
    "## Generate new samples\n",
    "\n",
    "Firstly, to generate meaningful data, an RBM needs to be trained. Please refer to the tutorials 1 and 2 on training an RBM if how to train an RBM using qucumber is unclear. An RBM with a positive-real wavefunction describing a transverse-field Ising model (TFIM) with 10 sites has already been trained in the first tutorial, with the parameters of the machine saved here as *saved_params.pt*. The *autoload* function can be employed here to instantiate the corresponding *PositiveWaveFunction* object from the saved RBM parameters."
   ]
  },
  {
   "cell_type": "code",
   "execution_count": 1,
   "metadata": {},
   "outputs": [],
   "source": [
    "import numpy as np\n",
    "import matplotlib.pyplot as plt\n",
    "\n",
    "from qucumber.nn_states import PositiveWaveFunction\n",
    "\n",
    "from qucumber.observables import Observable\n",
    "\n",
    "import quantum_ising_chain\n",
    "from quantum_ising_chain import TFIMChainEnergy\n",
    "\n",
    "nn_state = PositiveWaveFunction.autoload(\"saved_params.pt\")"
   ]
  },
  {
   "cell_type": "markdown",
   "metadata": {},
   "source": [
    "A *PositiveWaveFunction* object has a property called *sample* that takes in the following arguments.\n",
    "\n",
    "1. **k**: the number of Gibbs steps to perform to generate the new samples\n",
    "2. **num_samples**: the number of new data points to be generated"
   ]
  },
  {
   "cell_type": "code",
   "execution_count": 2,
   "metadata": {},
   "outputs": [
    {
     "name": "stdout",
     "output_type": "stream",
     "text": [
      "tensor([[0., 1., 1.,  ..., 1., 0., 1.],\n",
      "        [1., 1., 1.,  ..., 1., 1., 1.],\n",
      "        [0., 1., 0.,  ..., 0., 0., 0.],\n",
      "        ...,\n",
      "        [1., 1., 1.,  ..., 0., 0., 1.],\n",
      "        [1., 1., 1.,  ..., 1., 1., 1.],\n",
      "        [0., 0., 0.,  ..., 1., 1., 1.]], dtype=torch.float64)\n"
     ]
    }
   ],
   "source": [
    "new_samples = nn_state.sample(k=100, num_samples=10000)\n",
    "print(new_samples)"
   ]
  },
  {
   "cell_type": "markdown",
   "metadata": {},
   "source": [
    "With the newly generated samples, the user can now easliy calculate observables that do not require any details associated with the RBM. A great example of this is the magnetization. To calculate the magnetization, the newly-generated samples must be converted to $\\pm$ 1 from 1 and 0, respectively. The function below does the trick."
   ]
  },
  {
   "cell_type": "code",
   "execution_count": 3,
   "metadata": {},
   "outputs": [],
   "source": [
    "def to_pm1(samples):\n",
    "    return samples.mul(2.).sub(1.)"
   ]
  },
  {
   "cell_type": "markdown",
   "metadata": {},
   "source": [
    "Now, the magnetization is calculated as follows."
   ]
  },
  {
   "cell_type": "code",
   "execution_count": 4,
   "metadata": {},
   "outputs": [
    {
     "name": "stdout",
     "output_type": "stream",
     "text": [
      "Magnetization = 0.55620\n"
     ]
    }
   ],
   "source": [
    "def Magnetization(samples):\n",
    "    return to_pm1(samples).mean(1).abs().mean()\n",
    "\n",
    "\n",
    "magnetization = Magnetization(new_samples).item()\n",
    "\n",
    "print(\"Magnetization = %.5f\" % magnetization)"
   ]
  },
  {
   "cell_type": "markdown",
   "metadata": {},
   "source": [
    "The exact value for the magnetization is 0.5610. \n",
    "\n",
    "The magnetization and the newly-generated samples can also be saved to a pickle file along with the RBM parameters in the *PositiveWaveFunction* object."
   ]
  },
  {
   "cell_type": "code",
   "execution_count": 5,
   "metadata": {},
   "outputs": [],
   "source": [
    "nn_state.save(\n",
    "    \"saved_params_and_new_data.pt\",\n",
    "    metadata={\"samples\": new_samples, \"magnetization\": magnetization},\n",
    ")"
   ]
  },
  {
   "cell_type": "markdown",
   "metadata": {},
   "source": [
    "The *metadata* argument in the *save* function takes in a dictionary of data that you would like to save on top of the RBM parameters."
   ]
  },
  {
   "cell_type": "markdown",
   "metadata": {},
   "source": [
    "## Calculate an observable using the *Observable* module\n",
    "### Custom observable\n",
    "Qucumber has a built-in module called *Observable* which makes it easy for the user to compute any arbitrary observable from the RBM. To see the the *Observable* module in action, an example observable called *PIQuIL*, which inherits properties from the *Observable* module, is shown below. \n",
    "\n",
    "The *PIQuIL* observable takes an $\\sigma^z$ measurement at a site and multiplies it by the measurement two sites from it. There is also a parameter, *P*, that determines the strength of each of these interactions. For example, for the dataset $(-1,1,1,-1), (1,1,1,1)$ and $(1,1,-1,1)$ with P = 2, the *PIQuIL* for each data point would be $\\left( 2(-1\\times1) + 2(1\\times-1) = -4 \\right), \\left( 2(1\\times1) + 2(1\\times1) = 4 \\right)$ and $\\left( 2(1\\times-1) + 2(1\\times1) = 0 \\right)$, respectively."
   ]
  },
  {
   "cell_type": "code",
   "execution_count": 6,
   "metadata": {},
   "outputs": [],
   "source": [
    "class PIQuIL(Observable):\n",
    "    def __init__(self, P):\n",
    "        super(PIQuIL, self).__init__()\n",
    "        self.P = P\n",
    "\n",
    "    # Required : function that calculates the PIQuIL. Must be named \"apply\"\n",
    "    def apply(self, nn_state, samples):\n",
    "        to_pm1(samples)\n",
    "        interaction_ = 0\n",
    "        for i in range(samples.shape[-1]):\n",
    "            if (i + 3) > samples.shape[-1]:\n",
    "                continue\n",
    "            else:\n",
    "                interaction_ += self.P * samples[:, i] * samples[:, i + 2]\n",
    "\n",
    "        return interaction_\n",
    "\n",
    "\n",
    "P = 0.05\n",
    "piquil = PIQuIL(P)"
   ]
  },
  {
   "cell_type": "markdown",
   "metadata": {},
   "source": [
    "The *apply* function is contained in the *Observable* module, but is overwritten here. The *apply* function in *Observable* will compute the observable itself and must take in the RBM (*nn_state*) and a batch of samples as arguments. Thus, any new class inheriting from *Observables* that the user would like to define must contain a function called *apply* that calculates this new observable. \n",
    "\n",
    "Although the *PIQuIL* observable could technically be computed without the use of the *Observable* module since it does not ever use the RBM (*nn_state*), it is still nonetheless a constructive example.\n",
    "\n",
    "The real power in the *Observable* module is in the ability for the user to easily compute statistics of the observable from the generated sample. Since we have already generated new samples of data, the *PIQuIL* observable's mean, standard error and variance on the new data can be calculated with the *statistics_from_samples* function in the *Observable* module. The user must simply give the RBM and the samples as arguments. "
   ]
  },
  {
   "cell_type": "code",
   "execution_count": 7,
   "metadata": {},
   "outputs": [],
   "source": [
    "piquil_stats1 = piquil.statistics_from_samples(nn_state, new_samples)"
   ]
  },
  {
   "cell_type": "markdown",
   "metadata": {},
   "source": [
    "The *statistics_from_samples* function returns a dictionary containing the mean, standard error and the variance with the keys \"mean\", \"std_error\" and \"variance\", respectively."
   ]
  },
  {
   "cell_type": "code",
   "execution_count": 8,
   "metadata": {},
   "outputs": [
    {
     "name": "stdout",
     "output_type": "stream",
     "text": [
      "Mean PIQuIL: 0.1421 +/- 0.0014\n",
      "Variance: 0.0192\n"
     ]
    }
   ],
   "source": [
    "print(\n",
    "    \"Mean PIQuIL: %.4f\" % piquil_stats1[\"mean\"], \"+/- %.4f\" % piquil_stats1[\"std_error\"]\n",
    ")\n",
    "print(\"Variance: %.4f\" % piquil_stats1[\"variance\"])"
   ]
  },
  {
   "cell_type": "markdown",
   "metadata": {},
   "source": [
    "However, if the user did not have samples generated already, that is no problem. The *statistics* function in the *Observable* module will generate new samples internally and compute the mean, standard error and variance on those samples. Since the samples are not an argument in the *statistics* function, the user must now give the following additional arguments to the *statistics* function to generate the new samples. \n",
    "\n",
    "- **num_samples**: the number of samples to generate internally\n",
    "- **num_chains**: the number of Markov chains to run in parallel (default = 0)\n",
    "- **burn_in**: the number of Gibbs steps to perform before recording any samples (default = 1000)\n",
    "- **steps**: the number of Gibbs steps to perform between each sample (default = 1)\n",
    "\n",
    "The *statistics* function will also return a dictionary containing the mean, standard error and the variance with the keys \"mean\", \"std_error\" and \"variance\", respectively."
   ]
  },
  {
   "cell_type": "code",
   "execution_count": 9,
   "metadata": {},
   "outputs": [
    {
     "name": "stdout",
     "output_type": "stream",
     "text": [
      "Mean PIQuIL: 0.1423 +/- 0.0014\n",
      "Variance: 0.0188\n"
     ]
    }
   ],
   "source": [
    "num_samples = 10000\n",
    "burn_in = 100\n",
    "steps = 100\n",
    "\n",
    "piquil_stats2 = piquil.statistics(nn_state, num_samples, burn_in=burn_in, steps=steps)\n",
    "print(\n",
    "    \"Mean PIQuIL: %.4f\" % piquil_stats2[\"mean\"], \"+/- %.4f\" % piquil_stats2[\"std_error\"]\n",
    ")\n",
    "print(\"Variance: %.4f\" % piquil_stats2[\"variance\"])"
   ]
  },
  {
   "cell_type": "markdown",
   "metadata": {},
   "source": [
    "### TFIM Energy\n",
    "Some observables cannot be computed directly from samples, but instead depend on the RBM as previously mentioned. For example, the magnetization of the TFIM simply depends on the samples the user gives as input. Whereas the TFIM energy is much more complicated. An example for the computation of the energy is provided in the python file *quantum_ising_chain.py*, which takes advantage of qucumber's *Observable* module.\n",
    "\n",
    "*quantum_ising_chain.py* comprises of a class that computes the energy of a TFIM (*TFIMChainEnergy*) that inherits properties from the *Observable* module. To instantiate a *TFIMChainEnergy* object, the $\\frac{h}{J}$ value must be specified. The trained RBM parameters are from the first tutorial, where the example data was from the TFIM with 10 sites at its critical point ($\\frac{h}{J}=1$). "
   ]
  },
  {
   "cell_type": "code",
   "execution_count": 10,
   "metadata": {},
   "outputs": [],
   "source": [
    "h = 1\n",
    "\n",
    "tfim_energy = TFIMChainEnergy(h)"
   ]
  },
  {
   "cell_type": "markdown",
   "metadata": {},
   "source": [
    "To go ahead and calculate the mean energy and its standard error from the previously generated samples from this tutorial (new_samples), the *statistics_from_samples* function in the *Observable* module is called upon."
   ]
  },
  {
   "cell_type": "code",
   "execution_count": 11,
   "metadata": {},
   "outputs": [
    {
     "name": "stdout",
     "output_type": "stream",
     "text": [
      "Mean: -1.2353 +/- 0.0005\n",
      "Variance: 0.0022\n"
     ]
    }
   ],
   "source": [
    "energy_stats = tfim_energy.statistics_from_samples(nn_state, new_samples)\n",
    "print(\"Mean: %.4f\" % energy_stats[\"mean\"], \"+/- %.4f\" % energy_stats[\"std_error\"])\n",
    "print(\"Variance: %.4f\" % energy_stats[\"variance\"])"
   ]
  },
  {
   "cell_type": "markdown",
   "metadata": {},
   "source": [
    "The exact value for the energy is -1.2381. \n",
    "\n",
    "To illustrate how quickly the energy converges as a function of the sampling step (i.e. the number of Gibbs steps to perform to generate a new batch of samples), *steps*, the *Convergence* function in *quantum_ising_chain.py* will do the trick. *Convergence* creates a batch of random samples initially, which is then used to generate a new batch of samples from the RBM. The TFIM energy will be calculated at every Gibbs step. Please note that the samples generated previously (new_samples) are not used here; different samples are generated.  "
   ]
  },
  {
   "cell_type": "code",
   "execution_count": 12,
   "metadata": {},
   "outputs": [
    {
     "data": {
      "text/plain": [
       "Text(0,0.5,'% Error in Energy')"
      ]
     },
     "execution_count": 12,
     "metadata": {},
     "output_type": "execute_result"
    },
    {
     "data": {
      "image/png": "[encoded data removed]",
      "text/plain": [
       "<Figure size 432x288 with 1 Axes>"
      ]
     },
     "metadata": {},
     "output_type": "display_data"
    }
   ],
   "source": [
    "steps = 200\n",
    "num_samples = 10000\n",
    "\n",
    "dict_observables = quantum_ising_chain.Convergence(\n",
    "    nn_state, tfim_energy, num_samples, steps\n",
    ")\n",
    "\n",
    "energy = dict_observables[\"energies\"]\n",
    "err_energy = dict_observables[\"error\"]\n",
    "\n",
    "step = np.arange(steps + 1)\n",
    "\n",
    "E0 = -1.2381\n",
    "\n",
    "ax = plt.axes()\n",
    "ax.plot(step, abs((energy - E0) / E0) * 100, color=\"red\")\n",
    "ax.set_xlim(0, steps)\n",
    "ax.set_ylim(0, 0.6)\n",
    "ax.set_xlabel(\"Gibbs Step\")\n",
    "ax.set_ylabel(\"% Error in Energy\")"
   ]
  },
  {
   "cell_type": "markdown",
   "metadata": {},
   "source": [
    "One can see a brief transient period in the magnetization observable, before the state of the machine \"warms up\" to equilibrium.  After that, the values fluctuate around the calculated mean.\n",
    "\n",
    "### Adding observables\n",
    "\n",
    "One may also add / subtract observables with the new observable also retaining the same properties in the *Observables* module. For instance, a new observable can be defined by adding the TFIM energy observable multiplied by an arbitrary constant to the PIQuIL observable."
   ]
  },
  {
   "cell_type": "code",
   "execution_count": 13,
   "metadata": {},
   "outputs": [],
   "source": [
    "new_obs = 0.01 * tfim_energy + piquil"
   ]
  },
  {
   "cell_type": "markdown",
   "metadata": {},
   "source": [
    "The same statistics of this new observable can also be calculated."
   ]
  },
  {
   "cell_type": "code",
   "execution_count": 14,
   "metadata": {},
   "outputs": [
    {
     "name": "stdout",
     "output_type": "stream",
     "text": [
      "Mean: 0.1297 +/- 0.0014\n",
      "Variance: 0.0192\n"
     ]
    }
   ],
   "source": [
    "new_obs_stats = new_obs.statistics_from_samples(nn_state, new_samples)\n",
    "print(\"Mean: %.4f\" % new_obs_stats[\"mean\"], \"+/- %.4f\" % new_obs_stats[\"std_error\"])\n",
    "print(\"Variance: %.4f\" % new_obs_stats[\"variance\"])"
   ]
  },
  {
   "cell_type": "markdown",
   "metadata": {},
   "source": [
    "### Template for your custom observable\n",
    "Here is a generic template for you to try using the *Observable* module yourself."
   ]
  },
  {
   "cell_type": "code",
   "execution_count": 15,
   "metadata": {},
   "outputs": [],
   "source": [
    "import torch\n",
    "from qucumber.observables import Observable\n",
    "\n",
    "\n",
    "class YourObservable(Observable):\n",
    "    def __init__(self, your_constants):\n",
    "        super(YourObservable, self).__init__()\n",
    "        self.your_constants = your_constants\n",
    "\n",
    "    def apply(self, nn_state, samples):\n",
    "        # arguments of \"apply\" must be in this order\n",
    "\n",
    "        # calculate your observable for each data point\n",
    "        obs = torch.tensor([42] * len(samples))\n",
    "\n",
    "        # make sure the observables are on the same device and have the\n",
    "        # same dtype as the samples\n",
    "        obs = obs.to(samples)\n",
    "\n",
    "        # return a torch tensor containing the observable values\n",
    "        return obs"
   ]
  }
 ],
 "metadata": {
  "kernelspec": {
   "display_name": "Python 3",
   "language": "python",
   "name": "python3"
  },
  "language_info": {
   "codemirror_mode": {
    "name": "ipython",
    "version": 3
   },
   "file_extension": ".py",
   "mimetype": "text/x-python",
   "name": "python",
   "nbconvert_exporter": "python",
   "pygments_lexer": "ipython3",
   "version": "3.6.6"
  }
 },
 "nbformat": 4,
 "nbformat_minor": 2
}
