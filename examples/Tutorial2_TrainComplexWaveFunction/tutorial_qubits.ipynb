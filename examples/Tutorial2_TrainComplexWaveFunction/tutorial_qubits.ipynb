{
 "cells": [
  {
   "cell_type": "markdown",
   "metadata": {},
   "source": [
    "# Reconstruction of a complex wavefunction\n",
    "\n",
    "In this tutorial, a walkthrough of how to reconstruct a **complex** wavefunction via training a *Restricted Boltzmann Machine* (RBM), the neural network behind QuCumber, will be presented.\n",
    "\n",
    "\n",
    "## The wavefunction to be reconstructed\n",
    "The simple wavefunction below describing two qubits (coefficients stored in `qubits_psi.txt`) will be reconstructed.\n",
    "\n",
    "\n",
    "$$\\vert\\psi \\rangle = \\alpha \\vert00\\rangle + \\beta \\vert 01\\rangle + \\gamma \\vert10\\rangle + \\delta \\vert11\\rangle$$\n",
    "\n",
    "where the exact values of $\\alpha, \\beta, \\gamma$ and $\\delta$ used for this tutorial are\n",
    "\n",
    "$$\n",
    "\\alpha = 0.2861  + 0.0539 i\\\\\\beta = 0.3687 - 0.3023 i\\\\\\gamma = -0.1672 - 0.3529 i\\\\\\delta = -0.5659 - 0.4639 i\n",
    "$$\n",
    "\n",
    "The example dataset, `qubits_train.txt`, comprises of 500 $\\sigma$ measurements made in various bases (X, Y and Z). A corresponding file containing the bases for each data point in `qubits_train.txt`, `qubits_train_bases.txt`, is also required. As per convention, spins are represented in binary notation with zero and one denoting spin-down and spin-up, respectively.\n",
    "\n",
    "## Using qucumber to reconstruct the wavefunction\n",
    "\n",
    "### Imports\n",
    "To begin the tutorial, first import the required Python packages."
   ]
  },
  {
   "cell_type": "code",
   "execution_count": 1,
   "metadata": {},
   "outputs": [],
   "source": [
    "import numpy as np\n",
    "import torch\n",
    "import matplotlib.pyplot as plt\n",
    "\n",
    "from qucumber.nn_states import ComplexWaveFunction\n",
    "\n",
    "from qucumber.callbacks import MetricEvaluator\n",
    "\n",
    "import qucumber.utils.unitaries as unitaries\n",
    "import qucumber.utils.cplx as cplx\n",
    "\n",
    "import qucumber.utils.training_statistics as ts\n",
    "import qucumber.utils.data as data\n",
    "import qucumber\n",
    "\n",
    "# set random seed on cpu but not gpu, since we won't use gpu for this tutorial\n",
    "qucumber.set_random_seed(1234, cpu=True, gpu=False)"
   ]
  },
  {
   "cell_type": "markdown",
   "metadata": {},
   "source": [
    "The Python class `ComplexWaveFunction` contains generic properties of a RBM meant to reconstruct a complex wavefunction, the most notable one being the gradient function required for stochastic gradient descent.\n",
    "\n",
    "To instantiate a `ComplexWaveFunction` object, one needs to specify the number of visible and hidden units in the RBM. The number of visible units, `num_visible`, is given by the size of the physical system, i.e. the number of spins or qubits (2 in this case), while the number of hidden units, `num_hidden`, can be varied to change the expressiveness of the neural network.\n",
    "\n",
    "**Note:** The optimal `num_hidden` : `num_visible` ratio will depend on the system. For the two-qubit wavefunction described above, good results can be achieved when this ratio is 1.\n",
    "\n",
    "On top of needing the number of visible and hidden units, a `ComplexWaveFunction` object requires the user to input a dictionary containing the unitary operators (2x2) that will be used to rotate the qubits in and out of the computational basis, Z, during the training process. The `unitaries` utility will take care of creating this dictionary.\n",
    "\n",
    "The `MetricEvaluator` class and `training_statistics` utility are built-in amenities that will allow the user to evaluate the training in real time. \n",
    "\n",
    "Lastly, the `cplx` utility allows QuCumber to be able to handle complex numbers. Currently, PyTorch does not support complex numbers.\n",
    "\n",
    "\n",
    "### Training\n",
    "To evaluate the training in real time, the fidelity between the true wavefunction of the system and the wavefunction that QuCumber reconstructs, $\\vert\\langle\\psi\\vert\\psi_{RBM}\\rangle\\vert^2$, will be calculated along with the Kullback-Leibler (KL) divergence (the RBM's cost function). First, the training data and the true wavefunction of this system need to be loaded using the `data` utility."
   ]
  },
  {
   "cell_type": "code",
   "execution_count": 2,
   "metadata": {},
   "outputs": [],
   "source": [
    "train_path = \"qubits_train.txt\"\n",
    "train_bases_path = \"qubits_train_bases.txt\"\n",
    "psi_path = \"qubits_psi.txt\"\n",
    "bases_path = \"qubits_bases.txt\"\n",
    "\n",
    "train_samples, true_psi, train_bases, bases = data.load_data(\n",
    "    train_path, psi_path, train_bases_path, bases_path\n",
    ")"
   ]
  },
  {
   "cell_type": "markdown",
   "metadata": {},
   "source": [
    "The file `qubits_bases.txt` contains every unique basis in the `qubits_train_bases.txt` file. Calculation of the full KL divergence in every basis requires the user to specify each unique basis.\n",
    "\n",
    "As previously mentioned, a `ComplexWaveFunction` object requires a dictionary that contains the unitary operators that will be used to rotate the qubits in and out of the computational basis, Z, during the training process. In the case of the provided dataset, the unitaries required are the well-known $H$, and $K$ gates. The dictionary needed can be created with the following command."
   ]
  },
  {
   "cell_type": "code",
   "execution_count": 3,
   "metadata": {},
   "outputs": [],
   "source": [
    "unitary_dict = unitaries.create_dict()\n",
    "# unitary_dict = unitaries.create_dict(<unitary_name>=torch.tensor([[real part],\n",
    "#                                                                   [imaginary part]],\n",
    "#                                                                  dtype=torch.double)"
   ]
  },
  {
   "cell_type": "markdown",
   "metadata": {},
   "source": [
    "If the user wishes to add their own unitary operators from their experiment to `unitary_dict`, uncomment the block above. When `unitaries.create_dict()` is called, it will contain the identity and the $H$ and $K$ gates by default under the keys \"Z\", \"X\" and \"Y\", respectively.\n",
    "\n",
    "The number of visible units in the RBM is equal to the number of qubits. The number of hidden units will also be taken to be the number of visible units."
   ]
  },
  {
   "cell_type": "code",
   "execution_count": 4,
   "metadata": {},
   "outputs": [],
   "source": [
    "nv = train_samples.shape[-1]\n",
    "nh = nv\n",
    "\n",
    "nn_state = ComplexWaveFunction(\n",
    "    num_visible=nv, num_hidden=nh, unitary_dict=unitary_dict, gpu=False\n",
    ")"
   ]
  },
  {
   "cell_type": "markdown",
   "metadata": {},
   "source": [
    "If `gpu=True` (the default), QuCumber will attempt to run on a GPU if one is available (if one is not available, QuCumber will fall back to CPU). If one wishes to guarantee that QuCumber runs on the CPU, add the flag `gpu=False` in the `ComplexWaveFunction` object instantiation.\n",
    "\n",
    "Now the hyperparameters of the training process can be specified. \n",
    "\n",
    "1. `epochs`: the total number of training cycles that will be performed (default = 100)\n",
    "2. `pos_batch_size`: the number of data points used in the positive phase of the gradient (default = 100)\n",
    "3. `neg_batch_size`: the number of data points used in the negative phase of the gradient (default = `pos_batch_size`)\n",
    "4. `k`: the number of contrastive divergence steps (default = 1)\n",
    "5. `lr`: the learning rate (default = 0.001)\n",
    "\n",
    "    **Note:** For more information on the hyperparameters above, it is strongly encouraged that the user to read through the brief, but thorough theory document on RBMs. One does not have to specify these hyperparameters, as their default values will be used without the user overwriting them. It is recommended to keep with the default values until the user has a stronger grasp on what these hyperparameters mean. The quality and the computational efficiency of the training will highly depend on the choice of hyperparameters. As such, playing around with the hyperparameters is almost always necessary. \n",
    "    \n",
    "The two-qubit example in this tutorial should be extremely easy to train, regardless of the choice of hyperparameters. However, the hyperparameters below will be used."
   ]
  },
  {
   "cell_type": "code",
   "execution_count": 5,
   "metadata": {},
   "outputs": [],
   "source": [
    "epochs = 100\n",
    "pbs = 50  # pos_batch_size\n",
    "nbs = 50  # neg_batch_size\n",
    "lr = 0.1\n",
    "k = 5"
   ]
  },
  {
   "cell_type": "markdown",
   "metadata": {},
   "source": [
    "For evaluating the training in real time, the `MetricEvaluator` will be called to calculate the training evaluators every 10 epochs. The `MetricEvaluator` requires the following arguments.\n",
    "\n",
    "1. `period`: the frequency of the training evaluators being calculated (e.g. `period=200` means that the `MetricEvaluator` will compute the desired metrics every 200 epochs)\n",
    "2. A dictionary of functions you would like to reference to evaluate the training (arguments required for these functions are keyword arguments placed after the dictionary)\n",
    "\n",
    "The following additional arguments are needed to calculate the fidelity and KL divergence in the `training_statistics` utility.\n",
    "\n",
    "- `target_psi` (the true wavefunction of the system)\n",
    "- `space` (the entire Hilbert space of the system)\n",
    "\n",
    "The training evaluators can be printed out via the `verbose=True` statement.\n",
    "\n",
    "Although the fidelity and KL divergence are excellent training evaluators, they are not practical to calculate in most cases; the user may not have access to the target wavefunction of the system, nor may generating the Hilbert space of the system be computationally feasible. However, evaluating the training in real time is extremely convenient. \n",
    "\n",
    "Any custom function that the user would like to use to evaluate the training can be given to the `MetricEvaluator`, thus avoiding having to calculate fidelity and/or KL divergence. As an example, functions that calculate the the norm of each of the reconstructed wavefunction's coefficients are presented. Any custom function given to `MetricEvaluator` must take the neural-network state (in this case, the `ComplexWaveFunction` object) and keyword arguments. Although the given example requires the Hilbert space to be computed, the scope of the `MetricEvaluator`'s ability to be able to handle any function should still be evident."
   ]
  },
  {
   "cell_type": "code",
   "execution_count": 6,
   "metadata": {},
   "outputs": [],
   "source": [
    "def alpha(nn_state, space, **kwargs):\n",
    "    rbm_psi = nn_state.psi(space)\n",
    "    normalization = nn_state.compute_normalization(space).sqrt_()\n",
    "    alpha_ = cplx.norm(\n",
    "        torch.tensor([rbm_psi[0][0], rbm_psi[1][0]], device=nn_state.device)\n",
    "        / normalization\n",
    "    )\n",
    "\n",
    "    return alpha_\n",
    "\n",
    "\n",
    "def beta(nn_state, space, **kwargs):\n",
    "    rbm_psi = nn_state.psi(space)\n",
    "    normalization = nn_state.compute_normalization(space).sqrt_()\n",
    "    beta_ = cplx.norm(\n",
    "        torch.tensor([rbm_psi[0][1], rbm_psi[1][1]], device=nn_state.device)\n",
    "        / normalization\n",
    "    )\n",
    "\n",
    "    return beta_\n",
    "\n",
    "\n",
    "def gamma(nn_state, space, **kwargs):\n",
    "    rbm_psi = nn_state.psi(space)\n",
    "    normalization = nn_state.compute_normalization(space).sqrt_()\n",
    "    gamma_ = cplx.norm(\n",
    "        torch.tensor([rbm_psi[0][2], rbm_psi[1][2]], device=nn_state.device)\n",
    "        / normalization\n",
    "    )\n",
    "\n",
    "    return gamma_\n",
    "\n",
    "\n",
    "def delta(nn_state, space, **kwargs):\n",
    "    rbm_psi = nn_state.psi(space)\n",
    "    normalization = nn_state.compute_normalization(space).sqrt_()\n",
    "    delta_ = cplx.norm(\n",
    "        torch.tensor([rbm_psi[0][3], rbm_psi[1][3]], device=nn_state.device)\n",
    "        / normalization\n",
    "    )\n",
    "\n",
    "    return delta_"
   ]
  },
  {
   "cell_type": "markdown",
   "metadata": {},
   "source": [
    "Now the Hilbert space of the system must be generated for the fidelity and KL divergence and the dictionary of functions the user would like to compute every `period` epochs must be given to the `MetricEvaluator`. Note that some of the coefficients aren't being evaluated as they are commented out. This is simply to avoid cluttering the output, and may be uncommented by the user."
   ]
  },
  {
   "cell_type": "code",
   "execution_count": 7,
   "metadata": {},
   "outputs": [],
   "source": [
    "period = 5\n",
    "space = nn_state.generate_hilbert_space(nv)\n",
    "\n",
    "callbacks = [\n",
    "    MetricEvaluator(\n",
    "        period,\n",
    "        {\n",
    "            \"Fidelity\": ts.fidelity,\n",
    "            \"KL\": ts.KL,\n",
    "            \"normα\": alpha,\n",
    "            # \"normβ\": beta,\n",
    "            # \"normγ\": gamma,\n",
    "            # \"normδ\": delta,\n",
    "        },\n",
    "        target_psi=true_psi,\n",
    "        bases=bases,\n",
    "        verbose=True,\n",
    "        space=space,\n",
    "    )\n",
    "]"
   ]
  },
  {
   "cell_type": "markdown",
   "metadata": {},
   "source": [
    "Now the training can begin. The `ComplexWaveFunction` object has a function called `fit` which takes care of this."
   ]
  },
  {
   "cell_type": "code",
   "execution_count": 8,
   "metadata": {
    "scrolled": true
   },
   "outputs": [
    {
     "name": "stdout",
     "output_type": "stream",
     "text": [
      "Epoch: 5\tFidelity = 0.832915\tKL = 0.082186\tnormα = 0.277483\n",
      "Epoch: 10\tFidelity = 0.921205\tKL = 0.040539\tnormα = 0.255536\n",
      "Epoch: 15\tFidelity = 0.952083\tKL = 0.026470\tnormα = 0.266711\n",
      "Epoch: 20\tFidelity = 0.966222\tKL = 0.020245\tnormα = 0.276478\n",
      "Epoch: 25\tFidelity = 0.973169\tKL = 0.017382\tnormα = 0.263437\n",
      "Epoch: 30\tFidelity = 0.978472\tKL = 0.014814\tnormα = 0.269211\n",
      "Epoch: 35\tFidelity = 0.980824\tKL = 0.013920\tnormα = 0.260448\n",
      "Epoch: 40\tFidelity = 0.983202\tKL = 0.012793\tnormα = 0.253879\n",
      "Epoch: 45\tFidelity = 0.985874\tKL = 0.011112\tnormα = 0.271118\n",
      "Epoch: 50\tFidelity = 0.985609\tKL = 0.011081\tnormα = 0.268550\n",
      "Epoch: 55\tFidelity = 0.987340\tKL = 0.010049\tnormα = 0.269375\n",
      "Epoch: 60\tFidelity = 0.988982\tKL = 0.009524\tnormα = 0.266942\n",
      "Epoch: 65\tFidelity = 0.988805\tKL = 0.009123\tnormα = 0.261951\n",
      "Epoch: 70\tFidelity = 0.988830\tKL = 0.009089\tnormα = 0.256840\n",
      "Epoch: 75\tFidelity = 0.988641\tKL = 0.008995\tnormα = 0.259075\n",
      "Epoch: 80\tFidelity = 0.989784\tKL = 0.008171\tnormα = 0.263818\n",
      "Epoch: 85\tFidelity = 0.989098\tKL = 0.008490\tnormα = 0.258541\n",
      "Epoch: 90\tFidelity = 0.989963\tKL = 0.007766\tnormα = 0.266470\n",
      "Epoch: 95\tFidelity = 0.990079\tKL = 0.007669\tnormα = 0.260217\n",
      "Epoch: 100\tFidelity = 0.990406\tKL = 0.007328\tnormα = 0.274034\n"
     ]
    }
   ],
   "source": [
    "nn_state.fit(\n",
    "    train_samples,\n",
    "    epochs=epochs,\n",
    "    pos_batch_size=pbs,\n",
    "    neg_batch_size=nbs,\n",
    "    lr=lr,\n",
    "    k=k,\n",
    "    input_bases=train_bases,\n",
    "    callbacks=callbacks,\n",
    ")"
   ]
  },
  {
   "cell_type": "markdown",
   "metadata": {},
   "source": [
    "All of these training evaluators can be accessed after the training has completed, as well. The code below shows this, along with plots of each training evaluator versus the training cycle number (epoch)."
   ]
  },
  {
   "cell_type": "code",
   "execution_count": 9,
   "metadata": {},
   "outputs": [],
   "source": [
    "# Note that the key given to the *MetricEvaluator* must be\n",
    "# what comes after callbacks[0].\n",
    "fidelities = callbacks[0].Fidelity\n",
    "\n",
    "# Alternatively, we may use the usual dictionary/list subscripting\n",
    "# syntax. This is useful in cases where the name of the metric\n",
    "# may contain special characters or spaces.\n",
    "KLs = callbacks[0][\"KL\"]\n",
    "coeffs = callbacks[0][\"normα\"]\n",
    "epoch = np.arange(period, epochs + 1, period)"
   ]
  },
  {
   "cell_type": "code",
   "execution_count": 10,
   "metadata": {},
   "outputs": [],
   "source": [
    "# Some parameters to make the plots look nice\n",
    "params = {\n",
    "    \"text.usetex\": True,\n",
    "    \"font.family\": \"serif\",\n",
    "    \"legend.fontsize\": 14,\n",
    "    \"figure.figsize\": (10, 3),\n",
    "    \"axes.labelsize\": 16,\n",
    "    \"xtick.labelsize\": 14,\n",
    "    \"ytick.labelsize\": 14,\n",
    "    \"lines.linewidth\": 2,\n",
    "    \"lines.markeredgewidth\": 0.8,\n",
    "    \"lines.markersize\": 5,\n",
    "    \"lines.marker\": \"o\",\n",
    "    \"patch.edgecolor\": \"black\",\n",
    "}\n",
    "plt.rcParams.update(params)\n",
    "plt.style.use(\"seaborn-deep\")"
   ]
  },
  {
   "cell_type": "code",
   "execution_count": 11,
   "metadata": {},
   "outputs": [
    {
     "data": {
      "image/png": "[encoded data removed]",
      "text/plain": [
       "<Figure size 1008x216 with 3 Axes>"
      ]
     },
     "metadata": {
      "needs_background": "light"
     },
     "output_type": "display_data"
    }
   ],
   "source": [
    "fig, axs = plt.subplots(nrows=1, ncols=3, figsize=(14, 3))\n",
    "ax = axs[0]\n",
    "ax.plot(epoch, fidelities, \"o\", color=\"C0\", markeredgecolor=\"black\")\n",
    "ax.set_ylabel(r\"Fidelity\")\n",
    "ax.set_xlabel(r\"Epoch\")\n",
    "\n",
    "ax = axs[1]\n",
    "ax.plot(epoch, KLs, \"o\", color=\"C1\", markeredgecolor=\"black\")\n",
    "ax.set_ylabel(r\"KL Divergence\")\n",
    "ax.set_xlabel(r\"Epoch\")\n",
    "\n",
    "ax = axs[2]\n",
    "ax.plot(epoch, coeffs, \"o\", color=\"C2\", markeredgecolor=\"black\")\n",
    "ax.set_ylabel(r\"$\\vert\\alpha\\vert$\")\n",
    "ax.set_xlabel(r\"Epoch\")\n",
    "\n",
    "plt.tight_layout()\n",
    "plt.savefig(\"complex_fid_KL.pdf\")\n",
    "plt.show()"
   ]
  },
  {
   "cell_type": "markdown",
   "metadata": {},
   "source": [
    "It should be noted that one could have just ran `nn_state.fit(train_samples)` and just used the default hyperparameters and no training evaluators.\n",
    "\n",
    "At the end of the training process, the network parameters (the weights, visible biases and hidden biases) are stored in the `ComplexWaveFunction` object. One can save them to a pickle file, which will be called `saved_params.pt`, with the following command."
   ]
  },
  {
   "cell_type": "code",
   "execution_count": 12,
   "metadata": {},
   "outputs": [],
   "source": [
    "nn_state.save(\"saved_params.pt\")"
   ]
  },
  {
   "cell_type": "markdown",
   "metadata": {},
   "source": [
    "This saves the weights, visible biases and hidden biases as torch tensors with the following keys: `weights`, `visible_bias`, `hidden_bias`."
   ]
  }
 ],
 "metadata": {
  "kernelspec": {
   "display_name": "Python 3",
   "language": "python",
   "name": "python3"
  },
  "language_info": {
   "codemirror_mode": {
    "name": "ipython",
    "version": 3
   },
   "file_extension": ".py",
   "mimetype": "text/x-python",
   "name": "python",
   "nbconvert_exporter": "python",
   "pygments_lexer": "ipython3",
   "version": "3.6.6"
  }
 },
 "nbformat": 4,
 "nbformat_minor": 2
}
