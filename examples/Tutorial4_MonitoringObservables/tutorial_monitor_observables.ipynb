{
 "cells": [
  {
   "cell_type": "markdown",
   "metadata": {},
   "source": [
    "# Training while monitoring observables\n",
    "\n",
    "As seen in the first tutorial that went through reconstructing the wavefunction describing the TFIM with 10 sites at its critical point, the user can evaluate the training in real time with the `MetricEvaluator` and custom functions. What is most likely more impactful in many cases is to calculate an observable, like the energy, during the training process. This is slightly more computationally involved than using the `MetricEvaluator` to evaluate functions because observables require that samples be drawn from the RBM. \n",
    "\n",
    "Luckily, QuCumber also has a module very similar to the `MetricEvaluator`, but for observables. This is called the `ObservableEvaluator`. This tutorial uses the `ObservableEvaluator` to calculate the energy during the training on the TFIM data in the first tutorial. We will use the same training hyperparameters as before.\n",
    "\n",
    "It is assumed that the user has worked through Tutorial 3 beforehand. Recall that `quantum_ising_chain.py` contains the `TFIMChainEnergy` class that inherits from the `Observable` module. The exact ground-state energy is $-1.2381$."
   ]
  },
  {
   "cell_type": "code",
   "execution_count": 1,
   "metadata": {},
   "outputs": [],
   "source": [
    "import os.path\n",
    "\n",
    "import numpy as np\n",
    "import matplotlib.pyplot as plt\n",
    "\n",
    "from qucumber.nn_states import PositiveWaveFunction\n",
    "from qucumber.callbacks import ObservableEvaluator\n",
    "\n",
    "import qucumber\n",
    "import qucumber.utils.data as data\n",
    "\n",
    "from quantum_ising_chain import TFIMChainEnergy\n",
    "\n",
    "# set random seed on cpu but not gpu, since we won't use gpu for this tutorial\n",
    "qucumber.set_random_seed(1234, cpu=True, gpu=False)"
   ]
  },
  {
   "cell_type": "code",
   "execution_count": 2,
   "metadata": {},
   "outputs": [],
   "source": [
    "train_data = data.load_data(\n",
    "    os.path.join(\"..\", \"Tutorial1_TrainPosRealWaveFunction\", \"tfim1d_data.txt\")\n",
    ")[0]\n",
    "\n",
    "nv = train_data.shape[-1]\n",
    "nh = nv\n",
    "\n",
    "nn_state = PositiveWaveFunction(num_visible=nv, num_hidden=nh, gpu=False)\n",
    "\n",
    "epochs = 1000\n",
    "pbs = 100  # pos_batch_size\n",
    "nbs = 200  # neg_batch_size\n",
    "lr = 0.01\n",
    "k = 10\n",
    "\n",
    "period = 100\n",
    "\n",
    "h = 1\n",
    "num_samples = 10000\n",
    "burn_in = 100\n",
    "steps = 100\n",
    "\n",
    "tfim_energy = TFIMChainEnergy(h)"
   ]
  },
  {
   "cell_type": "markdown",
   "metadata": {},
   "source": [
    "Now, the `ObservableEvaluator` can be called. The `ObservableEvaluator` requires the following arguments.\n",
    "\n",
    "1. `period`: the frequency of the training evaluators being calculated (e.g. `period=200` means that the `MetricEvaluator` will compute the desired metrics every 200 epochs)\n",
    "2. A list of `Observable` objects you would like to reference to evaluate the training (arguments required for generating samples to calculate the observables are keyword arguments placed after the list). The `ObservableEvaluator` uses a `System` object (discussed in the previous tutorial) under the hood in order to estimate statistics efficiently.\n",
    "\n",
    "The following additional arguments are needed to calculate the statistics on the generated samples during training (these are the arguments of the `statistics` function in the `Observable` module, minus the `nn_state` argument; this gets passed in as an argument to `fit`). For more detail on these arguments, refer to either the previous tutorial or the documentation for `Observable.statistics`.\n",
    "\n",
    "- `num_samples`: the number of samples to generate internally\n",
    "- `num_chains`: the number of Markov chains to run in parallel (default = 0)\n",
    "- `burn_in`: the number of Gibbs steps to perform before recording any samples (default = 1000)\n",
    "- `steps`: the number of Gibbs steps to perform between each sample (default = 1)\n",
    "\n",
    "The training evaluators can be printed out by setting the `verbose` keyword argument to `True`."
   ]
  },
  {
   "cell_type": "code",
   "execution_count": 3,
   "metadata": {},
   "outputs": [
    {
     "name": "stdout",
     "output_type": "stream",
     "text": [
      "Epoch: 100\n",
      "  TFIMChainEnergy:\n",
      "    mean: -1.193284\tvariance: 0.023108\tstd_error: 0.001520\n",
      "Epoch: 200\n",
      "  TFIMChainEnergy:\n",
      "    mean: -1.217176\tvariance: 0.012590\tstd_error: 0.001122\n",
      "Epoch: 300\n",
      "  TFIMChainEnergy:\n",
      "    mean: -1.225789\tvariance: 0.007857\tstd_error: 0.000886\n",
      "Epoch: 400\n",
      "  TFIMChainEnergy:\n",
      "    mean: -1.229849\tvariance: 0.005336\tstd_error: 0.000730\n",
      "Epoch: 500\n",
      "  TFIMChainEnergy:\n",
      "    mean: -1.231192\tvariance: 0.004132\tstd_error: 0.000643\n",
      "Epoch: 600\n",
      "  TFIMChainEnergy:\n",
      "    mean: -1.233709\tvariance: 0.003314\tstd_error: 0.000576\n",
      "Epoch: 700\n",
      "  TFIMChainEnergy:\n",
      "    mean: -1.234858\tvariance: 0.002687\tstd_error: 0.000518\n",
      "Epoch: 800\n",
      "  TFIMChainEnergy:\n",
      "    mean: -1.234655\tvariance: 0.002244\tstd_error: 0.000474\n",
      "Epoch: 900\n",
      "  TFIMChainEnergy:\n",
      "    mean: -1.235693\tvariance: 0.001981\tstd_error: 0.000445\n",
      "Epoch: 1000\n",
      "  TFIMChainEnergy:\n",
      "    mean: -1.235892\tvariance: 0.001680\tstd_error: 0.000410\n"
     ]
    }
   ],
   "source": [
    "callbacks = [\n",
    "    ObservableEvaluator(\n",
    "        period,\n",
    "        [tfim_energy],\n",
    "        verbose=True,\n",
    "        num_samples=num_samples,\n",
    "        burn_in=burn_in,\n",
    "        steps=steps,\n",
    "    )\n",
    "]\n",
    "\n",
    "nn_state.fit(\n",
    "    train_data,\n",
    "    epochs=epochs,\n",
    "    pos_batch_size=pbs,\n",
    "    neg_batch_size=nbs,\n",
    "    lr=lr,\n",
    "    k=k,\n",
    "    callbacks=callbacks,\n",
    ")"
   ]
  },
  {
   "cell_type": "markdown",
   "metadata": {},
   "source": [
    "The `callbacks` list returns a list of dictionaries. The mean, standard error and the variance at each epoch can be accessed as follows:"
   ]
  },
  {
   "cell_type": "code",
   "execution_count": 4,
   "metadata": {},
   "outputs": [],
   "source": [
    "# Note that the name of the observable class that the user makes\n",
    "# must be what comes after callbacks[0].\n",
    "energies = callbacks[0].TFIMChainEnergy.mean\n",
    "\n",
    "# Alternatively, we can use the usual dictionary/list subscripting\n",
    "# syntax, which is useful in the case where the observable's name\n",
    "# contains special characters\n",
    "errors = callbacks[0][\"TFIMChainEnergy\"].std_error\n",
    "variance = callbacks[0][\"TFIMChainEnergy\"][\"variance\"]"
   ]
  },
  {
   "cell_type": "markdown",
   "metadata": {},
   "source": [
    "A plot of the energy as a function of the training cycle is presented below."
   ]
  },
  {
   "cell_type": "code",
   "execution_count": 5,
   "metadata": {
    "scrolled": true
   },
   "outputs": [
    {
     "data": {
      "image/png": "[encoded data removed]",
      "text/plain": [
       "<Figure size 720x360 with 1 Axes>"
      ]
     },
     "metadata": {
      "needs_background": "light"
     },
     "output_type": "display_data"
    }
   ],
   "source": [
    "epoch = np.arange(period, epochs + 1, period)\n",
    "\n",
    "E0 = -1.2381\n",
    "\n",
    "plt.figure(figsize=(10, 5))\n",
    "ax = plt.axes()\n",
    "ax.plot(epoch, energies, color=\"red\")\n",
    "ax.set_xlim(period, epochs)\n",
    "ax.axhline(E0, color=\"black\")\n",
    "ax.fill_between(epoch, energies - errors, energies + errors, alpha=0.2, color=\"black\")\n",
    "ax.set_xlabel(\"Epoch\")\n",
    "ax.set_ylabel(\"Energy\")\n",
    "ax.grid()"
   ]
  }
 ],
 "metadata": {
  "kernelspec": {
   "display_name": "Python 3",
   "language": "python",
   "name": "python3"
  },
  "language_info": {
   "codemirror_mode": {
    "name": "ipython",
    "version": 3
   },
   "file_extension": ".py",
   "mimetype": "text/x-python",
   "name": "python",
   "nbconvert_exporter": "python",
   "pygments_lexer": "ipython3",
   "version": "3.6.6"
  }
 },
 "nbformat": 4,
 "nbformat_minor": 2
}
