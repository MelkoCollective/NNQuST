{
 "cells": [
  {
   "cell_type": "markdown",
   "metadata": {},
   "source": [
    "# Reconstruction of a positive-real wavefunction\n",
    "\n",
    "In this tutorial, a walkthrough of how to reconstruct a **positive-real** wavefunction via training a *Restricted Boltzmann Machine* (RBM), the neural network behind qucumber, will be presented. The data used for training will be $\\sigma^{z}$ measurements from a one-dimensional transverse-field Ising model (TFIM) with 10 sites at its critical point.\n",
    "\n",
    "## Transverse-field Ising model\n",
    "The example dataset, located in *tfim1d_data.txt*, comprises of 10,000 $\\sigma^{z}$ measurements from a one-dimensional transverse-field Ising model (TFIM) with 10 sites at its critical point. The Hamiltonian for the transverse-field Ising model (TFIM) is given by\n",
    "\n",
    "\\begin{equation}\n",
    "\t\\mathcal{H} = -J\\sum_i \\sigma^z_i \\sigma^z_{i+1} - h \\sum_i\n",
    "\\sigma^x_i\n",
    "\\end{equation}\n",
    "\n",
    "where $\\sigma^{z}_i$ is the conventional spin-1/2 Pauli operator on site $i$. At the critical point, $J=h=1$. As per convention, spins are represented in binary notation with zero and one denoting spin-down and spin-up, respectively.\n",
    "\n",
    "## Using qucumber to reconstruct the wavefunction\n",
    "\n",
    "### Imports\n",
    "To begin the tutorial, first import the required Python packages."
   ]
  },
  {
   "cell_type": "code",
   "execution_count": 1,
   "metadata": {
    "attributes": {
     "classes": [],
     "id": "",
     "n": "14"
    }
   },
   "outputs": [],
   "source": [
    "import numpy as np\n",
    "import matplotlib.pyplot as plt\n",
    "\n",
    "from qucumber.nn_states import PositiveWaveFunction\n",
    "from qucumber.callbacks import MetricEvaluator\n",
    "\n",
    "import qucumber.utils.training_statistics as ts\n",
    "import qucumber.utils.data as data"
   ]
  },
  {
   "cell_type": "markdown",
   "metadata": {},
   "source": [
    "The Python class *PositiveWaveFunction* contains generic properties of a RBM meant to reconstruct a positive-real wavefunction, the most notable one being the gradient function required for stochastic gradient descent.\n",
    "\n",
    "To instantiate a *PositiveWaveFunction* object, one needs to specify the number of visible and hidden units in the RBM. The number of visible units, *num_visible*, is given by the size of the physical system, i.e. the number of spins or qubits (10 in this case), while the number of hidden units, *num_hidden*, can be varied to change the expressiveness of the neural network.\n",
    "\n",
    "**Note:** The optimal *num_hidden* : *num_visible* ratio will depend on the system. For the TFIM, having this ratio be equal to 1 leads to good results with reasonable computational effort.\n",
    "\n",
    "### Training\n",
    "To evaluate the training in real time, the fidelity between the true ground-state wavefunction of the system and the wavefunction that qucumber reconstructs, $\\vert\\langle\\psi\\vert\\psi_{RBM}\\rangle\\vert^2$, will be calculated along with the Kullback-Leibler (KL) divergence (the RBM's cost function). It will also be shown that any custom function can be used to evaluate the training.\n",
    "\n",
    "First, the training data and the true wavefunction of this system must be loaded using the *data* utility."
   ]
  },
  {
   "cell_type": "code",
   "execution_count": 2,
   "metadata": {
    "attributes": {
     "classes": [],
     "id": "",
     "n": "2"
    }
   },
   "outputs": [],
   "source": [
    "psi_path = \"tfim1d_psi.txt\"\n",
    "train_path = \"tfim1d_data.txt\"\n",
    "train_data, true_psi = data.load_data(train_path, psi_path)"
   ]
  },
  {
   "cell_type": "markdown",
   "metadata": {},
   "source": [
    "As previously mentioned, to instantiate a *PositiveWaveFunction* object, one needs to specify the number of visible and hidden units in the RBM. These two quantities equal will be kept equal."
   ]
  },
  {
   "cell_type": "code",
   "execution_count": 3,
   "metadata": {},
   "outputs": [],
   "source": [
    "nv = train_data.shape[-1]\n",
    "nh = nv\n",
    "\n",
    "nn_state = PositiveWaveFunction(num_visible=nv, num_hidden=nh)\n",
    "# nn_state = PositiveWaveFunction(num_visible=nv, num_hidden=nh, gpu = False)"
   ]
  },
  {
   "cell_type": "markdown",
   "metadata": {},
   "source": [
    "By default, qucumber will attempt to run on a GPU if one is available (if one is not available, qucumber will default to CPU). If one wishes to run qucumber on a CPU, add the flag \"gpu = False\" in the *PositiveWaveFunction* object instantiation (i.e. uncomment the line above). \n",
    "\n",
    "Now the hyperparameters of the training process can be specified.\n",
    "\n",
    "1. **epochs**: the total number of training cycles that will be performed (default = 100)\n",
    "2. **pos_batch_size**: the number of data points used in the positive phase of the gradient (default = 100)\n",
    "3. **neg_batch_size**: the number of data points used in the negative phase of the gradient (default = *pos_batch_size*)\n",
    "4. **k**: the number of contrastive divergence steps (default = 1)\n",
    "5. **lr**: the learning rate (default = 0.001)\n",
    "\n",
    "    **Note:** For more information on the hyperparameters above, it is strongly encouraged that the user to read through the brief, but thorough theory document on RBMs located in the qucumber documentation. One does not have to specify these hyperparameters, as their default values will be used without the user overwriting them. It is recommended to keep with the default values until the user has a stronger grasp on what these hyperparameters mean. The quality and the computational efficiency of the training will highly depend on the choice of hyperparameters. As such, playing around with the hyperparameters is almost always necessary. \n",
    "    \n",
    "For the TFIM with 10 sites, the following hyperparameters give excellent results."
   ]
  },
  {
   "cell_type": "code",
   "execution_count": 4,
   "metadata": {},
   "outputs": [],
   "source": [
    "epochs = 500\n",
    "pbs = 100  # pos_batch_size\n",
    "nbs = 200  # neg_batch_size\n",
    "lr = 0.01\n",
    "k = 10"
   ]
  },
  {
   "cell_type": "markdown",
   "metadata": {},
   "source": [
    "For evaluating the training in real time, the *MetricEvaluator* will be called in order to calculate the training evaluators every 100 epochs. The *MetricEvaluator* requires the following arguments.\n",
    "\n",
    "1. **log_every**: the frequency of the training evaluators being calculated is controlled by the *log_every* argument (e.g. *log_every* = 200 means that the *MetricEvaluator* will update the user every 200 epochs)\n",
    "2. A dictionary of functions you would like to reference to evaluate the training (arguments required for these functions are keyword arguments placed after the dictionary)\n",
    "\n",
    "The following additional arguments are needed to calculate the fidelity and KL divergence in the *training_statistics* utility.\n",
    "\n",
    "- **target_psi**: the true wavefunction of the system\n",
    "- **space**: the hilbert space of the system\n",
    "\n",
    "The training evaluators can be printed out via the *verbose=True* statement.\n",
    "\n",
    "Although the fidelity and KL divergence are excellent training evaluators, they are not practical to calculate in most cases; the user may not have access to the target wavefunction of the system, nor may generating the hilbert space of the system be computationally feasible. However, evaluating the training in real time is extremely convenient. \n",
    "\n",
    "Any custom function that the user would like to use to evaluate the training can be given to the *MetricEvaluator*, thus avoiding having to calculate fidelity and/or KL divergence. Any custom function given to *MetricEvaluator* must take the neural-network state (in this case, the *PositiveWaveFunction* object) and keyword arguments. As an example, the function to be passed to the *MetricEvaluator* will be the fifth coefficient of the reconstructed wavefunction multiplied by a parameter, *A*."
   ]
  },
  {
   "cell_type": "code",
   "execution_count": 5,
   "metadata": {},
   "outputs": [],
   "source": [
    "def psi_coefficient(nn_state, space, A, **kwargs):\n",
    "    norm = nn_state.compute_normalization(space).sqrt_()\n",
    "    return A * nn_state.psi(space)[0][4] / norm"
   ]
  },
  {
   "cell_type": "markdown",
   "metadata": {},
   "source": [
    "Now the hilbert space of the system can be generated for the fidelity and KL divergence and the dictionary of functions the user would like to compute every \"*log_every*\" epochs can be given to the *MetricEvaluator*."
   ]
  },
  {
   "cell_type": "code",
   "execution_count": 6,
   "metadata": {
    "attributes": {
     "classes": [],
     "id": "",
     "n": "2"
    }
   },
   "outputs": [],
   "source": [
    "log_every = 10\n",
    "space = nn_state.generate_hilbert_space(nv)"
   ]
  },
  {
   "cell_type": "markdown",
   "metadata": {},
   "source": [
    "Now the training can begin. The *PositiveWaveFunction* object has a property called *fit* which takes care of this. *MetricEvaluator* must be passed to the *fit* function in a list (*callbacks*)."
   ]
  },
  {
   "cell_type": "code",
   "execution_count": 7,
   "metadata": {},
   "outputs": [
    {
     "name": "stdout",
     "output_type": "stream",
     "text": [
      "Epoch: 10\tFidelity = 0.547804\tKL = 1.195178\tA_Ψrbm_5 = 0.126851\n",
      "Epoch: 20\tFidelity = 0.658564\tKL = 0.780798\tA_Ψrbm_5 = 0.175572\n",
      "Epoch: 30\tFidelity = 0.759926\tKL = 0.516669\tA_Ψrbm_5 = 0.220446\n",
      "Epoch: 40\tFidelity = 0.813349\tKL = 0.394757\tA_Ψrbm_5 = 0.237171\n",
      "Epoch: 50\tFidelity = 0.849678\tKL = 0.308069\tA_Ψrbm_5 = 0.242030\n",
      "Epoch: 60\tFidelity = 0.879978\tKL = 0.241939\tA_Ψrbm_5 = 0.244008\n",
      "Epoch: 70\tFidelity = 0.899385\tKL = 0.203503\tA_Ψrbm_5 = 0.239104\n",
      "Epoch: 80\tFidelity = 0.910633\tKL = 0.181866\tA_Ψrbm_5 = 0.233098\n",
      "Epoch: 90\tFidelity = 0.919439\tKL = 0.165422\tA_Ψrbm_5 = 0.232739\n",
      "Epoch: 100\tFidelity = 0.926352\tKL = 0.151868\tA_Ψrbm_5 = 0.236693\n",
      "Epoch: 110\tFidelity = 0.932707\tKL = 0.137847\tA_Ψrbm_5 = 0.228862\n",
      "Epoch: 120\tFidelity = 0.938568\tKL = 0.124750\tA_Ψrbm_5 = 0.225246\n",
      "Epoch: 130\tFidelity = 0.944588\tKL = 0.111567\tA_Ψrbm_5 = 0.227708\n",
      "Epoch: 140\tFidelity = 0.950317\tKL = 0.099030\tA_Ψrbm_5 = 0.221965\n",
      "Epoch: 150\tFidelity = 0.955697\tKL = 0.087846\tA_Ψrbm_5 = 0.220892\n",
      "Epoch: 160\tFidelity = 0.960060\tKL = 0.078744\tA_Ψrbm_5 = 0.217669\n",
      "Epoch: 170\tFidelity = 0.963734\tKL = 0.071463\tA_Ψrbm_5 = 0.211209\n",
      "Epoch: 180\tFidelity = 0.966983\tKL = 0.065037\tA_Ψrbm_5 = 0.212789\n",
      "Epoch: 190\tFidelity = 0.969863\tKL = 0.059552\tA_Ψrbm_5 = 0.215441\n",
      "Epoch: 200\tFidelity = 0.971855\tKL = 0.055612\tA_Ψrbm_5 = 0.215401\n",
      "Epoch: 210\tFidelity = 0.974065\tKL = 0.051354\tA_Ψrbm_5 = 0.214434\n",
      "Epoch: 220\tFidelity = 0.975498\tKL = 0.048596\tA_Ψrbm_5 = 0.215282\n",
      "Epoch: 230\tFidelity = 0.976978\tKL = 0.045895\tA_Ψrbm_5 = 0.219113\n",
      "Epoch: 240\tFidelity = 0.978081\tKL = 0.043587\tA_Ψrbm_5 = 0.216015\n",
      "Epoch: 250\tFidelity = 0.979635\tKL = 0.040530\tA_Ψrbm_5 = 0.218123\n",
      "Epoch: 260\tFidelity = 0.980856\tKL = 0.038107\tA_Ψrbm_5 = 0.212663\n",
      "Epoch: 270\tFidelity = 0.981773\tKL = 0.036271\tA_Ψrbm_5 = 0.217104\n",
      "Epoch: 280\tFidelity = 0.982749\tKL = 0.034360\tA_Ψrbm_5 = 0.213199\n",
      "Epoch: 290\tFidelity = 0.983276\tKL = 0.033325\tA_Ψrbm_5 = 0.211137\n",
      "Epoch: 300\tFidelity = 0.984401\tKL = 0.031133\tA_Ψrbm_5 = 0.213107\n",
      "Epoch: 310\tFidelity = 0.984497\tKL = 0.030936\tA_Ψrbm_5 = 0.210314\n",
      "Epoch: 320\tFidelity = 0.985262\tKL = 0.029467\tA_Ψrbm_5 = 0.208959\n",
      "Epoch: 330\tFidelity = 0.986041\tKL = 0.027918\tA_Ψrbm_5 = 0.215119\n",
      "Epoch: 340\tFidelity = 0.986363\tKL = 0.027343\tA_Ψrbm_5 = 0.213205\n",
      "Epoch: 350\tFidelity = 0.986996\tKL = 0.026156\tA_Ψrbm_5 = 0.217099\n",
      "Epoch: 360\tFidelity = 0.987103\tKL = 0.025901\tA_Ψrbm_5 = 0.212334\n",
      "Epoch: 370\tFidelity = 0.987318\tKL = 0.025571\tA_Ψrbm_5 = 0.210183\n",
      "Epoch: 380\tFidelity = 0.987641\tKL = 0.024933\tA_Ψrbm_5 = 0.211031\n",
      "Epoch: 390\tFidelity = 0.988068\tKL = 0.024034\tA_Ψrbm_5 = 0.214040\n",
      "Epoch: 400\tFidelity = 0.988131\tKL = 0.024035\tA_Ψrbm_5 = 0.212454\n",
      "Epoch: 410\tFidelity = 0.988617\tKL = 0.022995\tA_Ψrbm_5 = 0.222327\n",
      "Epoch: 420\tFidelity = 0.988748\tKL = 0.022755\tA_Ψrbm_5 = 0.219549\n",
      "Epoch: 430\tFidelity = 0.988709\tKL = 0.022863\tA_Ψrbm_5 = 0.218854\n",
      "Epoch: 440\tFidelity = 0.989193\tKL = 0.021925\tA_Ψrbm_5 = 0.217968\n",
      "Epoch: 450\tFidelity = 0.989310\tKL = 0.021700\tA_Ψrbm_5 = 0.213885\n",
      "Epoch: 460\tFidelity = 0.989429\tKL = 0.021482\tA_Ψrbm_5 = 0.214704\n",
      "Epoch: 470\tFidelity = 0.989732\tKL = 0.020836\tA_Ψrbm_5 = 0.216580\n",
      "Epoch: 480\tFidelity = 0.989467\tKL = 0.021400\tA_Ψrbm_5 = 0.211714\n",
      "Epoch: 490\tFidelity = 0.990070\tKL = 0.020131\tA_Ψrbm_5 = 0.216954\n",
      "Epoch: 500\tFidelity = 0.990259\tKL = 0.019733\tA_Ψrbm_5 = 0.220164\n"
     ]
    }
   ],
   "source": [
    "callbacks = [\n",
    "    MetricEvaluator(\n",
    "        log_every,\n",
    "        {\"Fidelity\": ts.fidelity, \"KL\": ts.KL, \"A_Ψrbm_5\": psi_coefficient},\n",
    "        target_psi=true_psi,\n",
    "        verbose=True,\n",
    "        space=space,\n",
    "        A=3.,\n",
    "    )\n",
    "]\n",
    "\n",
    "nn_state.fit(\n",
    "    train_data,\n",
    "    epochs=epochs,\n",
    "    pos_batch_size=pbs,\n",
    "    neg_batch_size=nbs,\n",
    "    lr=lr,\n",
    "    k=k,\n",
    "    callbacks=callbacks,\n",
    ")\n",
    "# nn_state.fit(train_data, callbacks=callbacks)"
   ]
  },
  {
   "cell_type": "markdown",
   "metadata": {},
   "source": [
    "All of these training evaluators can be accessed after the training has completed, as well. The code below shows this, along with plots of each training evaluator versus the training cycle number (epoch)."
   ]
  },
  {
   "cell_type": "code",
   "execution_count": 8,
   "metadata": {},
   "outputs": [],
   "source": [
    "fidelities = callbacks[0].Fidelity\n",
    "KLs = callbacks[0].KL\n",
    "coeffs = callbacks[0].A_Ψrbm_5\n",
    "# Please note that the key given to the *MetricEvaluator* must be what comes after callbacks[0].\n",
    "epoch = np.arange(log_every, epochs + 1, log_every)"
   ]
  },
  {
   "cell_type": "code",
   "execution_count": 50,
   "metadata": {},
   "outputs": [],
   "source": [
    "# Some parameters to make the plots look nice\n",
    "params = {'text.usetex': True,\n",
    "            'font.family': 'serif',\n",
    "            'legend.fontsize': 14,\n",
    "            'figure.figsize': (10, 3),\n",
    "            'axes.labelsize': 16,\n",
    "            'xtick.labelsize':14,\n",
    "            'ytick.labelsize':14,\n",
    "            'lines.linewidth':2,\n",
    "            'lines.markeredgewidth': 0.8,\n",
    "            'lines.markersize': 5,\n",
    "            'lines.marker': \"o\",\n",
    "            \"patch.edgecolor\": \"black\"\n",
    "         }\n",
    "plt.rcParams.update(params)\n",
    "plt.style.use('seaborn-deep')"
   ]
  },
  {
   "cell_type": "code",
   "execution_count": 52,
   "metadata": {},
   "outputs": [
    {
     "data": {
      "image/png": "[encoded data removed]",
      "text/plain": [
       "<Figure size 1008x216 with 3 Axes>"
      ]
     },
     "metadata": {},
     "output_type": "display_data"
    }
   ],
   "source": [
    "# Plotting\n",
    "fig, axs = plt.subplots(nrows=1, ncols=3, figsize=(14, 3))\n",
    "ax = axs[0]\n",
    "ax.plot(epoch, fidelities, \"o\", color = \"C0\", markeredgecolor=\"black\")\n",
    "ax.set_ylabel(r'Fidelity')\n",
    "ax.set_xlabel(r'Epoch')\n",
    "\n",
    "ax = axs[1]\n",
    "ax.plot(epoch, KLs, \"o\", color = \"C1\", markeredgecolor=\"black\")\n",
    "ax.set_ylabel(r'KL Divergence')\n",
    "ax.set_xlabel(r'Epoch')\n",
    "\n",
    "ax = axs[2]\n",
    "ax.plot(epoch, coeffs, \"o\", color = \"C2\", markeredgecolor=\"black\")\n",
    "ax.set_ylabel(r'$A\\psi_{RBM}[5]$')\n",
    "ax.set_xlabel(r'Epoch')\n",
    "\n",
    "plt.tight_layout()\n",
    "plt.savefig(\"fid_KL.pdf\")\n",
    "plt.show()"
   ]
  },
  {
   "cell_type": "markdown",
   "metadata": {},
   "source": [
    "It should be noted that one could have just ran *nn_state.fit(train_samples)* and just used the default hyperparameters and no training evaluators.\n",
    "\n",
    "To demonstrate how important it is to find the optimal hyperparameters for a certain system, restart this notebook and comment out the original *fit* statement and uncomment the one below. The default hyperparameters will be used instead. Using the non-default hyperparameters yielded a fidelity of approximately 0.994, while the default hyperparameters yielded a fidelity of approximately 0.523!\n",
    "\n",
    "The RBM's parameters will also be saved for future use in other tutorials. They can be saved to a pickle file with the name \"saved_params.pt\" with the code below."
   ]
  },
  {
   "cell_type": "code",
   "execution_count": 9,
   "metadata": {},
   "outputs": [],
   "source": [
    "nn_state.save(\"saved_params.pt\")"
   ]
  },
  {
   "cell_type": "markdown",
   "metadata": {},
   "source": [
    "This saves the weights, visible biases and hidden biases as torch tensors with the following keys: \"weights\", \"visible_bias\", \"hidden_bias\"."
   ]
  }
 ],
 "metadata": {
  "kernelspec": {
   "display_name": "Python 3",
   "language": "python",
   "name": "python3"
  },
  "language_info": {
   "codemirror_mode": {
    "name": "ipython",
    "version": 3
   },
   "file_extension": ".py",
   "mimetype": "text/x-python",
   "name": "python",
   "nbconvert_exporter": "python",
   "pygments_lexer": "ipython3",
   "version": "3.6.5"
  }
 },
 "nbformat": 4,
 "nbformat_minor": 2
}
