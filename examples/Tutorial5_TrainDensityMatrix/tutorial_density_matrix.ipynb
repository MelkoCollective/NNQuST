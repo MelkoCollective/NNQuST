{
 "cells": [
  {
   "cell_type": "markdown",
   "metadata": {},
   "source": [
    "# Reconstruction of a density matrix\n",
    "\n",
    "In this tutorial, a walkthrough of how to reconstruct a density matrix via training a pair of modified *Restricted Boltzmann Machines* is presented\n",
    "\n",
    "\n",
    "## The density matrix to be reconstructed\n",
    "The density matrix that will be be reconstructed is the density matrix associated with the 2-qubit W state\n",
    "\n",
    "\\begin{equation}\n",
    "            \\vert\\psi \\rangle = \\frac{1}{\\sqrt{2}}\\vert 01\\rangle + \\frac{1}{\\sqrt{2}}\\vert10\\rangle\n",
    "\\end{equation}\n",
    "\n",
    "so that\n",
    "\n",
    "\\begin{equation}\n",
    "            \\rho = \\vert\\psi\\rangle\\langle\\psi\\vert\n",
    "\\end{equation}\n",
    "\n",
    "with global depolarization probability $p_{dep} = 0.5$ such that\n",
    "\n",
    "\\begin{equation}\n",
    "            \\rho_{new} = \\left(1 - p_{dep}\\right)\\rho + \\frac{p_{dep}}{2^N} I\n",
    "\\end{equation}\n",
    "\n",
    "where $I$ is the identity matrix, representing the maximally mixed state.\n",
    "\n",
    "The example dataset, `N2_W_state_100_samples_data.txt`, is comprised of 900 $\\sigma^z$ measurements, 100 in each of the $3^2$ permuations of two of the bases X, Y and Z. A corresponding file containing the bases for each data point, `N2_W_state_100_samples_bases.txt`, is also required. \n",
    "\n",
    "In this tutorial is also included versions with 1000 measurements in each basis, to illustrate the improvements to reconstruction fidelity of a larger data set. The measurements and bases are stored in `N2_W_state_1000_samples_data.txt`, and `N2_W_state_1000_samples_bases.txt` respectively.\n",
    "\n",
    "The set of all 3^2 bases in which measurements are made is stored in `N2_IC_bases.txt`. Finally, the real and imaginary parts of the matrix are stored in `N2_W_state_target_real.txt` and `N2_W_state_target_imag.txt` respectively. As per convention, spins are represented in binary notation with zero and one denoting spin-up and spin-down, respectively.\n",
    "\n",
    "## Using qucumber to reconstruct the density matrix\n",
    "\n",
    "### Imports\n",
    "To begin the tutorial, first import the required Python packages."
   ]
  },
  {
   "cell_type": "code",
   "execution_count": 1,
   "metadata": {},
   "outputs": [],
   "source": [
    "import numpy as np\n",
    "import matplotlib.pyplot as plt\n",
    "\n",
    "from qucumber.nn_states import DensityMatrix\n",
    "\n",
    "from qucumber.callbacks import MetricEvaluator\n",
    "import qucumber.utils.unitaries as unitaries\n",
    "\n",
    "import qucumber.utils.training_statistics as ts\n",
    "import qucumber.utils.data as data"
   ]
  },
  {
   "cell_type": "markdown",
   "metadata": {},
   "source": [
    "The Python class `DensityMatrix` contains the properties of an RBM needed to reconstruct the density matrix, as demonstrated in [this paper here].\n",
    "\n",
    "To instantiate a `DensityMatrix` object, one needs to specify the number of visible, hidden and auxiliary units in the RBM. The number of visible units, `num_visible`, is given by the size of the physical system, i.e. the number of spins or qubits (2 in this case). On the other hand, the number of hidden units, `num_hidden`, can be varied to change the expressiveness of the neural network, and the number of auxiliary units, `num_aux`, can be varied depending on the extent of purification required of the system.\n",
    "\n",
    "On top of needing the number of visible, hidden and auxiliary units, a `DensityMatrix` object requires the user to input a dictionary containing the unitary operators (2x2) that will be used to rotate the qubits in and out of the computational basis, Z, during the training process. The `unitaries` utility will take care of creating this dictionary.\n",
    "\n",
    "The `MetricEvaluator` class and `training_statistics` utility are built-in amenities that will allow the user to evaluate the training in real time. \n",
    "\n",
    "\n",
    "### Training\n",
    "To evaluate the training in real time, the fidelity between the true wavefunction of the system and the wavefunction that QuCumber reconstructs, \n",
    "\n",
    "\\begin{equation}\n",
    "\\operatorname{Tr }\\left(\\sqrt{\\sqrt{\\rho_{RBM}}\\rho\\sqrt{\\rho_{RBM}}}\\right)\n",
    "\\end{equation}\n",
    "will be calculated along with the Kullback-Leibler (KL) divergence (the RBM's cost function). First, the training data and the true wavefunction of this system need to be loaded using the `data` utility.\n",
    "\n",
    "[this paper here]: https://arxiv.org/pdf/1801.09684.pdf"
   ]
  },
  {
   "cell_type": "code",
   "execution_count": 2,
   "metadata": {
    "scrolled": false
   },
   "outputs": [],
   "source": [
    "train_path = \"N2_W_state_100_samples_data.txt\"\n",
    "train_bases_path = \"N2_W_state_100_samples_bases.txt\"\n",
    "matrix_path_real = \"N2_W_state_target_real.txt\"\n",
    "matrix_path_imag = \"N2_W_state_target_imag.txt\"\n",
    "bases_path = \"N2_IC_bases.txt\"\n",
    "\n",
    "\n",
    "train_samples, true_matrix, train_bases, bases = data.load_data_DM(\n",
    "    train_path, matrix_path_real, matrix_path_imag, train_bases_path, bases_path\n",
    ")"
   ]
  },
  {
   "cell_type": "markdown",
   "metadata": {},
   "source": [
    "The file `N2_IC_bases.txt` contains every unique basis in the `N2_W_state_100_samples_bases.txt` file. Calculation of the full KL divergence in every basis requires the user to specify each unique basis.\n",
    "\n",
    "As previously mentioned, a `DensityMatrix` object requires a dictionary that contains the unitary operators that will be used to rotate the qubits in and out of the computational basis, Z, during the training process. In the case of the provided dataset, the unitaries required are the well-known $H$, and $K$ gates. The dictionary needed can be created with the following command."
   ]
  },
  {
   "cell_type": "code",
   "execution_count": 3,
   "metadata": {},
   "outputs": [],
   "source": [
    "unitary_dict = unitaries.create_dict()\n",
    "# unitary_dict = unitaries.create_dict(unitary_name=torch.tensor([[real part],\n",
    "#                                                                 [imaginary part]],\n",
    "#                                                                 dtype=torch.double)"
   ]
  },
  {
   "cell_type": "markdown",
   "metadata": {},
   "source": [
    "If the user wishes to add their own unitary operators from their experiment to `unitary_dict`, uncomment the block above. When `unitaries.create_dict()` is called, it will contain the identity and the $H$ and $K$ gates by default under the keys \"Z\", \"X\" and \"Y\", respectively.\n",
    "\n",
    "The number of visible units in the RBM is equal to the number of qubits. The number of hidden units will also be taken to be the number of visible units."
   ]
  },
  {
   "cell_type": "code",
   "execution_count": 4,
   "metadata": {},
   "outputs": [],
   "source": [
    "nv = train_samples.shape[-1]\n",
    "nh = 2\n",
    "na = 2\n",
    "\n",
    "nn_state = DensityMatrix(\n",
    "    num_visible=nv, num_hidden=nh, num_aux=na, unitary_dict=unitary_dict\n",
    ")"
   ]
  },
  {
   "cell_type": "markdown",
   "metadata": {},
   "source": [
    "The number of visible, hidden, and auxiliary units must now be specified. These are given by `nv`, `nh` and `na` respectively. The number of visible units is equal to the size of the system. The hidden and auxiliary units are hyperparameters that must be provided by the user. With these, a `DensityMatrix` object can be instantiated."
   ]
  },
  {
   "cell_type": "markdown",
   "metadata": {},
   "source": [
    "Now the hyperparameters of the training process can be specified. \n",
    "\n",
    "1. `epochs`: the total number of training cycles that will be performed (default = 100)\n",
    "2. `pos_batch_size`: the number of data points used in the positive phase of the gradient (default = 100)\n",
    "3. `neg_batch_size`: the number of data points used in the negative phase of the gradient (default = `pos_batch_size`)\n",
    "4. `k`: the number of contrastive divergence steps (default = 1)\n",
    "5. `lr`: coefficient that scales the default value of the (non-constant) learning rate of the Adadelta algorithm (default = 1)\n",
    "6. `lr_drop_epoch`: the epoch, or list of epochs, at which the learning rate drops by `lr_drop_factor` (default = 50)\n",
    "7. `lr_drop_factor`: the factor by which the learning rate drops at `lr_drop_epoch` or all epochs in `lr_drop_epoch` if it is a list (default = 1.0) \n",
    "\n",
    "Set `lr_drop_factor` to 1.0 to maintain constant \"base\" learning rate for Adadelta optimization. The choice shown here is optimized for this tutorial, but can (and should) be varied according to each instance\n",
    "\n",
    "   **Note:** For more information on the hyperparameters above, it is strongly encouraged that the user to read through the brief, but thorough theory document on RBMs. One does not have to specify these hyperparameters, as their default values will be used without the user overwriting them. It is recommended to keep with the default values until the user has a stronger grasp on what these hyperparameters mean. The quality and the computational efficiency of the training will highly depend on the choice of hyperparameters. As such, playing around with the hyperparameters is almost always necessary. "
   ]
  },
  {
   "cell_type": "code",
   "execution_count": 5,
   "metadata": {},
   "outputs": [],
   "source": [
    "epochs = 100\n",
    "pbs = 10  # pos_batch_size\n",
    "nbs = 10  # neg_batch_size\n",
    "lr = 10\n",
    "k = 10\n",
    "lr_drop_epoch = 50\n",
    "lr_drop_factor = 0.1"
   ]
  },
  {
   "cell_type": "markdown",
   "metadata": {},
   "source": [
    "For evaluating the training in real time, the `MetricEvaluator` will be called to calculate the training evaluators every `period` epochs. The `MetricEvaluator` requires the following arguments.\n",
    "\n",
    "1. `period`: the frequency of the training evaluators being calculated (e.g. `period=200` means that the `MetricEvaluator` will compute the desired metrics every 200 epochs)\n",
    "2. A dictionary of functions you would like to reference to evaluate the training (arguments required for these functions are keyword arguments placed after the dictionary)\n",
    "\n",
    "The following additional arguments are needed to calculate the fidelity and KL divergence in the `training_statistics` utility.\n",
    "\n",
    "- `target_matrix` (the true density matrix of the system)\n",
    "- `space` (the entire Hilbert space of the system)\n",
    "\n",
    "The training evaluators can be printed out via the `verbose=True` statement.\n",
    "\n",
    "Although the fidelity and KL divergence are excellent training evaluators, they are not practical to calculate in most cases; the user may not have access to the target wavefunction of the system, nor may generating the Hilbert space of the system be computationally feasible. However, evaluating the training in real time is extremely convenient. \n",
    "\n",
    "Any custom function that the user would like to use to evaluate the training can be given to the `MetricEvaluator`, thus avoiding having to calculate fidelity and/or KL divergence. As an example, a function to compute the partition function of the current density matrix is presented. Any custom function given to `MetricEvaluator` must take the neural-network state (in this case, the `Density` object) and keyword arguments. Although the given example requires the Hilbert space to be computed, the scope of the `MetricEvaluator`'s ability to be able to handle any function should still be evident."
   ]
  },
  {
   "cell_type": "code",
   "execution_count": 6,
   "metadata": {},
   "outputs": [],
   "source": [
    "def partition(nn_state, space, **kwargs):\n",
    "    a_space = nn_state.generate_space(nn_state.num_aux)\n",
    "    return nn_state.rbm_am.partition(space, a_space)"
   ]
  },
  {
   "cell_type": "markdown",
   "metadata": {},
   "source": [
    "Now the Hilbert space of the system must be generated for the fidelity and KL divergence and the dictionary of functions the user would like to compute every `period` epochs must be given to the `MetricEvaluator`."
   ]
  },
  {
   "cell_type": "code",
   "execution_count": 7,
   "metadata": {},
   "outputs": [],
   "source": [
    "period = 1\n",
    "space = nn_state.generate_hilbert_space(nv)\n",
    "aux_space = nn_state.generate_hilbert_space(na)\n",
    "\n",
    "callbacks = [\n",
    "    MetricEvaluator(\n",
    "        period,\n",
    "        {\n",
    "            \"Fidelity\": ts.density_matrix_fidelity,\n",
    "            \"KL\": ts.density_matrix_KL,\n",
    "            # \"Partition Function\": partition\n",
    "        },\n",
    "        target=true_matrix,\n",
    "        bases=bases,\n",
    "        verbose=True,\n",
    "        v_space=space,\n",
    "        a_space=aux_space,\n",
    "    )\n",
    "]"
   ]
  },
  {
   "cell_type": "markdown",
   "metadata": {},
   "source": [
    "Now the training can begin. The `DensityMatrix` object has a function called `fit` which takes care of this. If you wish to prematurely end training at some particular fidelity, you may uncomment `train_to_fid`, and replace it with your desired fidelity. Be aware, however, that the smaller data set, and certain hyperparameters may preclude a very high fidelity (e.g. 0.999)"
   ]
  },
  {
   "cell_type": "code",
   "execution_count": 8,
   "metadata": {
    "scrolled": false
   },
   "outputs": [
    {
     "data": {
      "application/vnd.jupyter.widget-view+json": {
       "model_id": "8b1dbd9a5d1a4fd78560b3e13d3e3df7",
       "version_major": 2,
       "version_minor": 0
      },
      "text/plain": [
       "HBox(children=(IntProgress(value=0, description='Epochs ', style=ProgressStyle(description_width='initial')), …"
      ]
     },
     "metadata": {},
     "output_type": "display_data"
    },
    {
     "name": "stdout",
     "output_type": "stream",
     "text": [
      "Epoch: 1\tFidelity = 0.553462\tKL = 0.485358\n",
      "Epoch: 2\tFidelity = 0.564971\tKL = 0.456954\n",
      "Epoch: 3\tFidelity = 0.589539\tKL = 0.442293\n",
      "Epoch: 4\tFidelity = 0.648874\tKL = 0.390137\n",
      "Epoch: 5\tFidelity = 0.684462\tKL = 0.308494\n",
      "Epoch: 6\tFidelity = 0.814434\tKL = 0.140156\n",
      "Epoch: 7\tFidelity = 0.848810\tKL = 0.093987\n",
      "Epoch: 8\tFidelity = 0.874277\tKL = 0.067793\n",
      "Epoch: 9\tFidelity = 0.914974\tKL = 0.046609\n",
      "Epoch: 10\tFidelity = 0.947082\tKL = 0.035347\n",
      "Epoch: 11\tFidelity = 0.955671\tKL = 0.029296\n",
      "Epoch: 12\tFidelity = 0.949819\tKL = 0.030755\n",
      "Epoch: 13\tFidelity = 0.960267\tKL = 0.026249\n",
      "Epoch: 14\tFidelity = 0.955570\tKL = 0.040869\n",
      "Epoch: 15\tFidelity = 0.964177\tKL = 0.022727\n",
      "Epoch: 16\tFidelity = 0.950189\tKL = 0.046225\n",
      "Epoch: 17\tFidelity = 0.974352\tKL = 0.019547\n",
      "Epoch: 18\tFidelity = 0.962901\tKL = 0.027925\n",
      "Epoch: 19\tFidelity = 0.967497\tKL = 0.020869\n",
      "Epoch: 20\tFidelity = 0.975330\tKL = 0.018763\n",
      "Epoch: 21\tFidelity = 0.968411\tKL = 0.023580\n",
      "Epoch: 22\tFidelity = 0.958703\tKL = 0.030288\n",
      "Epoch: 23\tFidelity = 0.970555\tKL = 0.031889\n",
      "Epoch: 24\tFidelity = 0.968201\tKL = 0.020118\n",
      "Epoch: 25\tFidelity = 0.970237\tKL = 0.019562\n",
      "Epoch: 26\tFidelity = 0.979346\tKL = 0.013988\n",
      "Epoch: 27\tFidelity = 0.958829\tKL = 0.031867\n",
      "Epoch: 28\tFidelity = 0.981137\tKL = 0.010749\n",
      "Epoch: 29\tFidelity = 0.976160\tKL = 0.018085\n",
      "Epoch: 30\tFidelity = 0.978075\tKL = 0.013805\n",
      "Epoch: 31\tFidelity = 0.969128\tKL = 0.021615\n",
      "Epoch: 32\tFidelity = 0.966259\tKL = 0.026543\n",
      "Epoch: 33\tFidelity = 0.972646\tKL = 0.017285\n",
      "Epoch: 34\tFidelity = 0.979637\tKL = 0.011510\n",
      "Epoch: 35\tFidelity = 0.986928\tKL = 0.007366\n",
      "Epoch: 36\tFidelity = 0.984851\tKL = 0.010424\n",
      "Epoch: 37\tFidelity = 0.982967\tKL = 0.010879\n",
      "Epoch: 38\tFidelity = 0.977889\tKL = 0.015049\n",
      "Epoch: 39\tFidelity = 0.979489\tKL = 0.017055\n",
      "Epoch: 40\tFidelity = 0.983012\tKL = 0.009484\n",
      "Epoch: 41\tFidelity = 0.965824\tKL = 0.027862\n",
      "Epoch: 42\tFidelity = 0.973301\tKL = 0.017920\n",
      "Epoch: 43\tFidelity = 0.974830\tKL = 0.016419\n",
      "Epoch: 44\tFidelity = 0.968779\tKL = 0.022688\n",
      "Epoch: 45\tFidelity = 0.974242\tKL = 0.014460\n",
      "Epoch: 46\tFidelity = 0.966272\tKL = 0.024221\n",
      "Epoch: 47\tFidelity = 0.974242\tKL = 0.016032\n",
      "Epoch: 48\tFidelity = 0.970168\tKL = 0.019726\n",
      "Epoch: 49\tFidelity = 0.969439\tKL = 0.017771\n",
      "Epoch: 50\tFidelity = 0.964419\tKL = 0.024682\n",
      "Epoch: 51\tFidelity = 0.964561\tKL = 0.023900\n",
      "Epoch: 52\tFidelity = 0.970055\tKL = 0.019147\n",
      "Epoch: 53\tFidelity = 0.972515\tKL = 0.016619\n",
      "Epoch: 54\tFidelity = 0.974090\tKL = 0.016088\n",
      "Epoch: 55\tFidelity = 0.975986\tKL = 0.013472\n",
      "Epoch: 56\tFidelity = 0.976541\tKL = 0.012822\n",
      "Epoch: 57\tFidelity = 0.976989\tKL = 0.012383\n",
      "Epoch: 58\tFidelity = 0.975777\tKL = 0.013379\n",
      "Epoch: 59\tFidelity = 0.975223\tKL = 0.013745\n",
      "Epoch: 60\tFidelity = 0.975280\tKL = 0.013875\n",
      "Epoch: 61\tFidelity = 0.976387\tKL = 0.012942\n",
      "Epoch: 62\tFidelity = 0.976510\tKL = 0.012762\n",
      "Epoch: 63\tFidelity = 0.976804\tKL = 0.012785\n",
      "Epoch: 64\tFidelity = 0.974995\tKL = 0.014633\n",
      "Epoch: 65\tFidelity = 0.976186\tKL = 0.013714\n",
      "Epoch: 66\tFidelity = 0.976135\tKL = 0.013977\n",
      "Epoch: 67\tFidelity = 0.975996\tKL = 0.014081\n",
      "Epoch: 68\tFidelity = 0.978230\tKL = 0.012094\n",
      "Epoch: 69\tFidelity = 0.977769\tKL = 0.012336\n",
      "Epoch: 70\tFidelity = 0.978599\tKL = 0.011915\n",
      "Epoch: 71\tFidelity = 0.978462\tKL = 0.012079\n",
      "Epoch: 72\tFidelity = 0.979024\tKL = 0.011597\n",
      "Epoch: 73\tFidelity = 0.978064\tKL = 0.012494\n",
      "Epoch: 74\tFidelity = 0.977601\tKL = 0.012813\n",
      "Epoch: 75\tFidelity = 0.978335\tKL = 0.012074\n",
      "Epoch: 76\tFidelity = 0.978217\tKL = 0.012780\n",
      "Epoch: 77\tFidelity = 0.979517\tKL = 0.011743\n",
      "Epoch: 78\tFidelity = 0.978967\tKL = 0.012712\n",
      "Epoch: 79\tFidelity = 0.977682\tKL = 0.014146\n",
      "Epoch: 80\tFidelity = 0.980116\tKL = 0.011478\n",
      "Epoch: 81\tFidelity = 0.979816\tKL = 0.011971\n",
      "Epoch: 82\tFidelity = 0.980948\tKL = 0.010319\n",
      "Epoch: 83\tFidelity = 0.980006\tKL = 0.011611\n",
      "Epoch: 84\tFidelity = 0.979225\tKL = 0.012021\n",
      "Epoch: 85\tFidelity = 0.978884\tKL = 0.012209\n",
      "Epoch: 86\tFidelity = 0.979154\tKL = 0.011980\n",
      "Epoch: 87\tFidelity = 0.979368\tKL = 0.011767\n",
      "Epoch: 88\tFidelity = 0.980265\tKL = 0.011254\n",
      "Epoch: 89\tFidelity = 0.979228\tKL = 0.012674\n",
      "Epoch: 90\tFidelity = 0.978745\tKL = 0.012887\n",
      "Epoch: 91\tFidelity = 0.979250\tKL = 0.012153\n",
      "Epoch: 92\tFidelity = 0.979976\tKL = 0.011640\n",
      "Epoch: 93\tFidelity = 0.978450\tKL = 0.013210\n",
      "Epoch: 94\tFidelity = 0.975492\tKL = 0.017106\n",
      "Epoch: 95\tFidelity = 0.977037\tKL = 0.015359\n",
      "Epoch: 96\tFidelity = 0.977989\tKL = 0.014137\n",
      "Epoch: 97\tFidelity = 0.978727\tKL = 0.013857\n",
      "Epoch: 98\tFidelity = 0.977220\tKL = 0.015806\n",
      "Epoch: 99\tFidelity = 0.979416\tKL = 0.012642\n",
      "Epoch: 100\tFidelity = 0.979580\tKL = 0.012185\n",
      "\n"
     ]
    }
   ],
   "source": [
    "nn_state.fit(\n",
    "    train_samples,\n",
    "    train_bases,\n",
    "    true_matrix,\n",
    "    epochs=epochs,\n",
    "    pos_batch_size=pbs,\n",
    "    neg_batch_size=nbs,\n",
    "    lr=lr,\n",
    "    k=k,\n",
    "    bases=bases,\n",
    "    progbar=\"notebook\",\n",
    "    callbacks=callbacks,\n",
    "    # train_to_fid=0.995,\n",
    "    lr_drop_epoch=lr_drop_epoch,\n",
    "    lr_drop_factor=lr_drop_factor,\n",
    ")"
   ]
  },
  {
   "cell_type": "markdown",
   "metadata": {},
   "source": [
    "All of these training evaluators can be accessed after the training has completed, as well. The code below shows this, along with plots of each training evaluator versus the training cycle number (epoch)."
   ]
  },
  {
   "cell_type": "code",
   "execution_count": 9,
   "metadata": {},
   "outputs": [],
   "source": [
    "fidelities = callbacks[0][\"Fidelity\"]\n",
    "KLs = callbacks[0][\"KL\"]\n",
    "epoch = np.arange(period, epochs + 1, period)"
   ]
  },
  {
   "cell_type": "code",
   "execution_count": 10,
   "metadata": {},
   "outputs": [
    {
     "data": {
      "text/plain": [
       "Text(0.5, 0, 'Epoch')"
      ]
     },
     "execution_count": 10,
     "metadata": {},
     "output_type": "execute_result"
    },
    {
     "data": {
      "image/png": "[encoded data removed]",
      "text/plain": [
       "<Figure size 1008x216 with 2 Axes>"
      ]
     },
     "metadata": {
      "needs_background": "light"
     },
     "output_type": "display_data"
    }
   ],
   "source": [
    "fig, axs = plt.subplots(nrows=1, ncols=2, figsize=(14, 3))\n",
    "ax = axs[0]\n",
    "ax.plot(epoch, fidelities, \"o\", color=\"C0\", markeredgecolor=\"black\")\n",
    "ax.set_ylabel(r\"Fidelity\")\n",
    "ax.set_xlabel(r\"Epoch\")\n",
    "ax.set_ylim(0.85, 1.00)\n",
    "\n",
    "\n",
    "ax = axs[1]\n",
    "ax.plot(epoch, KLs, \"o\", color=\"C1\", markeredgecolor=\"black\")\n",
    "ax.set_ylabel(r\"KL Divergence\")\n",
    "ax.set_xlabel(r\"Epoch\")\n",
    "\n",
    "# ax = axs[2]\n",
    "# ax.plot(epoch, partition, \"o\", color=\"C2\", markeredgecolor=\"black\")\n",
    "# ax.set_ylabel(r\"$Z_{\\lambda}$\")\n",
    "# ax.set_xlabel(r\"Epoch\")"
   ]
  },
  {
   "cell_type": "markdown",
   "metadata": {},
   "source": [
    "This saves the weights, visible biases and hidden biases as torch tensors with the following keys: \"weights\", \"visible_bias\", \"hidden_bias\"."
   ]
  },
  {
   "cell_type": "code",
   "execution_count": 11,
   "metadata": {},
   "outputs": [],
   "source": [
    "# nn_state.save(\"saved_params_W_state.pt\")"
   ]
  },
  {
   "cell_type": "raw",
   "metadata": {},
   "source": []
  }
 ],
 "metadata": {
  "kernelspec": {
   "display_name": "Python 3",
   "language": "python",
   "name": "python3"
  },
  "language_info": {
   "codemirror_mode": {
    "name": "ipython",
    "version": 3
   },
   "file_extension": ".py",
   "mimetype": "text/x-python",
   "name": "python",
   "nbconvert_exporter": "python",
   "pygments_lexer": "ipython3",
   "version": "3.6.8"
  }
 },
 "nbformat": 4,
 "nbformat_minor": 2
}
